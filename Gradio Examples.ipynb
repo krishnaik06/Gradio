{
 "cells": [
  {
   "cell_type": "markdown",
   "id": "09eb5ef2",
   "metadata": {},
   "source": [
    "#### Gradio Comparing Transfer Learning Models"
   ]
  },
  {
   "cell_type": "code",
   "execution_count": 28,
   "id": "bee4dba3",
   "metadata": {},
   "outputs": [
    {
     "name": "stdout",
     "output_type": "stream",
     "text": [
      "Requirement already satisfied: gradio in c:\\users\\win10\\anaconda3\\envs\\test\\lib\\site-packages (1.6.4)\n",
      "Requirement already satisfied: scikit-image in c:\\users\\win10\\anaconda3\\envs\\test\\lib\\site-packages (from gradio) (0.18.1)\n",
      "Requirement already satisfied: librosa in c:\\users\\win10\\anaconda3\\envs\\test\\lib\\site-packages (from gradio) (0.8.0)\n",
      "Requirement already satisfied: Flask-BasicAuth in c:\\users\\win10\\anaconda3\\envs\\test\\lib\\site-packages (from gradio) (0.2.0)\n",
      "Requirement already satisfied: paramiko in c:\\users\\win10\\anaconda3\\envs\\test\\lib\\site-packages (from gradio) (2.7.2)\n",
      "Requirement already satisfied: analytics-python in c:\\users\\win10\\anaconda3\\envs\\test\\lib\\site-packages (from gradio) (1.2.9)\n",
      "Requirement already satisfied: Flask>=1.1.1 in c:\\users\\win10\\anaconda3\\envs\\test\\lib\\site-packages (from gradio) (1.1.2)\n",
      "Requirement already satisfied: numpy in c:\\users\\win10\\anaconda3\\envs\\test\\lib\\site-packages (from gradio) (1.20.2)\n",
      "Requirement already satisfied: markdown2 in c:\\users\\win10\\anaconda3\\envs\\test\\lib\\site-packages (from gradio) (2.4.0)\n",
      "Requirement already satisfied: ffmpy in c:\\users\\win10\\anaconda3\\envs\\test\\lib\\site-packages (from gradio) (0.3.0)\n",
      "Requirement already satisfied: requests in c:\\users\\win10\\anaconda3\\envs\\test\\lib\\site-packages (from gradio) (2.25.1)\n",
      "Requirement already satisfied: flask-cachebuster in c:\\users\\win10\\anaconda3\\envs\\test\\lib\\site-packages (from gradio) (1.0.0)\n",
      "Requirement already satisfied: scipy in c:\\users\\win10\\anaconda3\\envs\\test\\lib\\site-packages (from gradio) (1.4.1)\n",
      "Requirement already satisfied: colorama>=0.3.9 in c:\\users\\win10\\anaconda3\\envs\\test\\lib\\site-packages (from gradio) (0.4.4)\n",
      "Requirement already satisfied: IPython in c:\\users\\win10\\anaconda3\\envs\\test\\lib\\site-packages (from gradio) (7.22.0)\n",
      "Requirement already satisfied: pandas in c:\\users\\win10\\anaconda3\\envs\\test\\lib\\site-packages (from gradio) (1.2.4)\n",
      "Requirement already satisfied: Flask-Cors>=3.0.8 in c:\\users\\win10\\anaconda3\\envs\\test\\lib\\site-packages (from gradio) (3.0.10)\n",
      "Requirement already satisfied: Werkzeug>=0.15 in c:\\users\\win10\\anaconda3\\envs\\test\\lib\\site-packages (from Flask>=1.1.1->gradio) (1.0.1)\n",
      "Requirement already satisfied: click>=5.1 in c:\\users\\win10\\anaconda3\\envs\\test\\lib\\site-packages (from Flask>=1.1.1->gradio) (7.1.2)\n",
      "Requirement already satisfied: itsdangerous>=0.24 in c:\\users\\win10\\anaconda3\\envs\\test\\lib\\site-packages (from Flask>=1.1.1->gradio) (1.1.0)\n",
      "Requirement already satisfied: Jinja2>=2.10.1 in c:\\users\\win10\\anaconda3\\envs\\test\\lib\\site-packages (from Flask>=1.1.1->gradio) (2.11.3)\n",
      "Requirement already satisfied: Six in c:\\users\\win10\\anaconda3\\envs\\test\\lib\\site-packages (from Flask-Cors>=3.0.8->gradio) (1.15.0)\n",
      "Requirement already satisfied: MarkupSafe>=0.23 in c:\\users\\win10\\anaconda3\\envs\\test\\lib\\site-packages (from Jinja2>=2.10.1->Flask>=1.1.1->gradio) (1.1.1)\n",
      "Requirement already satisfied: python-dateutil>2.1 in c:\\users\\win10\\anaconda3\\envs\\test\\lib\\site-packages (from analytics-python->gradio) (2.8.1)\n",
      "Requirement already satisfied: idna<3,>=2.5 in c:\\users\\win10\\anaconda3\\envs\\test\\lib\\site-packages (from requests->gradio) (2.10)\n",
      "Requirement already satisfied: chardet<5,>=3.0.2 in c:\\users\\win10\\anaconda3\\envs\\test\\lib\\site-packages (from requests->gradio) (4.0.0)\n",
      "Requirement already satisfied: urllib3<1.27,>=1.21.1 in c:\\users\\win10\\anaconda3\\envs\\test\\lib\\site-packages (from requests->gradio) (1.26.4)\n",
      "Requirement already satisfied: certifi>=2017.4.17 in c:\\users\\win10\\anaconda3\\envs\\test\\lib\\site-packages (from requests->gradio) (2020.12.5)\n",
      "Requirement already satisfied: pickleshare in c:\\users\\win10\\anaconda3\\envs\\test\\lib\\site-packages (from IPython->gradio) (0.7.5)\n",
      "Requirement already satisfied: decorator in c:\\users\\win10\\anaconda3\\envs\\test\\lib\\site-packages (from IPython->gradio) (4.4.2)\n",
      "Requirement already satisfied: jedi>=0.16 in c:\\users\\win10\\anaconda3\\envs\\test\\lib\\site-packages (from IPython->gradio) (0.18.0)\n",
      "Requirement already satisfied: setuptools>=18.5 in c:\\users\\win10\\anaconda3\\envs\\test\\lib\\site-packages (from IPython->gradio) (52.0.0.post20210125)\n",
      "Requirement already satisfied: pygments in c:\\users\\win10\\anaconda3\\envs\\test\\lib\\site-packages (from IPython->gradio) (2.8.1)\n",
      "Requirement already satisfied: prompt-toolkit!=3.0.0,!=3.0.1,<3.1.0,>=2.0.0 in c:\\users\\win10\\anaconda3\\envs\\test\\lib\\site-packages (from IPython->gradio) (3.0.18)\n",
      "Requirement already satisfied: traitlets>=4.2 in c:\\users\\win10\\anaconda3\\envs\\test\\lib\\site-packages (from IPython->gradio) (5.0.5)\n",
      "Requirement already satisfied: backcall in c:\\users\\win10\\anaconda3\\envs\\test\\lib\\site-packages (from IPython->gradio) (0.2.0)\n",
      "Requirement already satisfied: parso<0.9.0,>=0.8.0 in c:\\users\\win10\\anaconda3\\envs\\test\\lib\\site-packages (from jedi>=0.16->IPython->gradio) (0.8.2)\n",
      "Requirement already satisfied: wcwidth in c:\\users\\win10\\anaconda3\\envs\\test\\lib\\site-packages (from prompt-toolkit!=3.0.0,!=3.0.1,<3.1.0,>=2.0.0->IPython->gradio) (0.2.5)\n",
      "Requirement already satisfied: ipython-genutils in c:\\users\\win10\\anaconda3\\envs\\test\\lib\\site-packages (from traitlets>=4.2->IPython->gradio) (0.2.0)\n",
      "Requirement already satisfied: resampy>=0.2.2 in c:\\users\\win10\\anaconda3\\envs\\test\\lib\\site-packages (from librosa->gradio) (0.2.2)\n",
      "Requirement already satisfied: joblib>=0.14 in c:\\users\\win10\\anaconda3\\envs\\test\\lib\\site-packages (from librosa->gradio) (1.0.1)\n",
      "Requirement already satisfied: pooch>=1.0 in c:\\users\\win10\\anaconda3\\envs\\test\\lib\\site-packages (from librosa->gradio) (1.3.0)\n",
      "Requirement already satisfied: numba>=0.43.0 in c:\\users\\win10\\anaconda3\\envs\\test\\lib\\site-packages (from librosa->gradio) (0.53.1)\n",
      "Requirement already satisfied: scikit-learn!=0.19.0,>=0.14.0 in c:\\users\\win10\\anaconda3\\envs\\test\\lib\\site-packages (from librosa->gradio) (0.24.1)\n",
      "Requirement already satisfied: audioread>=2.0.0 in c:\\users\\win10\\anaconda3\\envs\\test\\lib\\site-packages (from librosa->gradio) (2.1.9)\n",
      "Requirement already satisfied: soundfile>=0.9.0 in c:\\users\\win10\\anaconda3\\envs\\test\\lib\\site-packages (from librosa->gradio) (0.10.3.post1)\n",
      "Requirement already satisfied: llvmlite<0.37,>=0.36.0rc1 in c:\\users\\win10\\anaconda3\\envs\\test\\lib\\site-packages (from numba>=0.43.0->librosa->gradio) (0.36.0)\n",
      "Requirement already satisfied: appdirs in c:\\users\\win10\\anaconda3\\envs\\test\\lib\\site-packages (from pooch>=1.0->librosa->gradio) (1.4.4)\n",
      "Requirement already satisfied: packaging in c:\\users\\win10\\anaconda3\\envs\\test\\lib\\site-packages (from pooch>=1.0->librosa->gradio) (20.9)\n",
      "Requirement already satisfied: threadpoolctl>=2.0.0 in c:\\users\\win10\\anaconda3\\envs\\test\\lib\\site-packages (from scikit-learn!=0.19.0,>=0.14.0->librosa->gradio) (2.1.0)\n",
      "Requirement already satisfied: cffi>=1.0 in c:\\users\\win10\\anaconda3\\envs\\test\\lib\\site-packages (from soundfile>=0.9.0->librosa->gradio) (1.14.5)\n",
      "Requirement already satisfied: pycparser in c:\\users\\win10\\anaconda3\\envs\\test\\lib\\site-packages (from cffi>=1.0->soundfile>=0.9.0->librosa->gradio) (2.20)\n",
      "Requirement already satisfied: pyparsing>=2.0.2 in c:\\users\\win10\\anaconda3\\envs\\test\\lib\\site-packages (from packaging->pooch>=1.0->librosa->gradio) (2.4.7)\n",
      "Requirement already satisfied: pytz>=2017.3 in c:\\users\\win10\\anaconda3\\envs\\test\\lib\\site-packages (from pandas->gradio) (2021.1)\n",
      "Requirement already satisfied: pynacl>=1.0.1 in c:\\users\\win10\\anaconda3\\envs\\test\\lib\\site-packages (from paramiko->gradio) (1.4.0)\n",
      "Requirement already satisfied: cryptography>=2.5 in c:\\users\\win10\\anaconda3\\envs\\test\\lib\\site-packages (from paramiko->gradio) (3.4.7)\n",
      "Requirement already satisfied: bcrypt>=3.1.3 in c:\\users\\win10\\anaconda3\\envs\\test\\lib\\site-packages (from paramiko->gradio) (3.2.0)\n",
      "Requirement already satisfied: matplotlib!=3.0.0,>=2.0.0 in c:\\users\\win10\\anaconda3\\envs\\test\\lib\\site-packages (from scikit-image->gradio) (3.4.1)\n",
      "Requirement already satisfied: pillow!=7.1.0,!=7.1.1,>=4.3.0 in c:\\users\\win10\\anaconda3\\envs\\test\\lib\\site-packages (from scikit-image->gradio) (8.2.0)\n",
      "Requirement already satisfied: imageio>=2.3.0 in c:\\users\\win10\\anaconda3\\envs\\test\\lib\\site-packages (from scikit-image->gradio) (2.9.0)\n",
      "Requirement already satisfied: networkx>=2.0 in c:\\users\\win10\\anaconda3\\envs\\test\\lib\\site-packages (from scikit-image->gradio) (2.5.1)\n",
      "Requirement already satisfied: tifffile>=2019.7.26 in c:\\users\\win10\\anaconda3\\envs\\test\\lib\\site-packages (from scikit-image->gradio) (2021.4.8)\n",
      "Requirement already satisfied: PyWavelets>=1.1.1 in c:\\users\\win10\\anaconda3\\envs\\test\\lib\\site-packages (from scikit-image->gradio) (1.1.1)\n",
      "Requirement already satisfied: cycler>=0.10 in c:\\users\\win10\\anaconda3\\envs\\test\\lib\\site-packages (from matplotlib!=3.0.0,>=2.0.0->scikit-image->gradio) (0.10.0)\n",
      "Requirement already satisfied: kiwisolver>=1.0.1 in c:\\users\\win10\\anaconda3\\envs\\test\\lib\\site-packages (from matplotlib!=3.0.0,>=2.0.0->scikit-image->gradio) (1.3.1)\n"
     ]
    }
   ],
   "source": [
    "!pip install gradio"
   ]
  },
  {
   "cell_type": "code",
   "execution_count": 29,
   "id": "f3f83569",
   "metadata": {},
   "outputs": [
    {
     "name": "stdout",
     "output_type": "stream",
     "text": [
      "2.2.0\n"
     ]
    }
   ],
   "source": [
    "import tensorflow as tf\n",
    "print(tf.__version__)"
   ]
  },
  {
   "cell_type": "code",
   "execution_count": 30,
   "id": "961a6510",
   "metadata": {},
   "outputs": [],
   "source": [
    "import gradio as gr\n",
    "import tensorflow as tf\n",
    "import numpy as np\n",
    "from PIL import Image\n",
    "import requests\n",
    "\n",
    "\n",
    "# Download human-readable labels for ImageNet.\n",
    "response = requests.get(\"https://git.io/JJkYN\")\n",
    "labels = response.text.split(\"\\n\")\n",
    "\n",
    "mobile_net = tf.keras.applications.MobileNetV2()\n",
    "inception_net = tf.keras.applications.InceptionV3()\n",
    "\n"
   ]
  },
  {
   "cell_type": "code",
   "execution_count": 31,
   "id": "44d83e7d",
   "metadata": {},
   "outputs": [],
   "source": [
    "def classify_image_with_mobile_net(im):\n",
    "    im = Image.fromarray(im.astype('uint8'), 'RGB')\n",
    "    im = im.resize((224, 224))\n",
    "    arr = np.array(im).reshape((-1, 224, 224, 3))\n",
    "    arr = tf.keras.applications.mobilenet.preprocess_input(arr)\n",
    "    prediction = mobile_net.predict(arr).flatten()\n",
    "    return {labels[i]: float(prediction[i]) for i in range(1000)}\n",
    "    "
   ]
  },
  {
   "cell_type": "code",
   "execution_count": 32,
   "id": "5e77912e",
   "metadata": {},
   "outputs": [],
   "source": [
    "def classify_image_with_inception_net(im):\n",
    "    # Resize the image to\n",
    "    im = Image.fromarray(im.astype('uint8'), 'RGB')\n",
    "    im = im.resize((299, 299))\n",
    "    arr = np.array(im).reshape((-1, 299, 299, 3))\n",
    "    arr = tf.keras.applications.inception_v3.preprocess_input(arr)\n",
    "    prediction = inception_net.predict(arr).flatten()\n",
    "    return {labels[i]: float(prediction[i]) for i in range(1000)}"
   ]
  },
  {
   "cell_type": "code",
   "execution_count": 26,
   "id": "f6a9e5fe",
   "metadata": {},
   "outputs": [],
   "source": [
    "imagein = gr.inputs.Image()\n",
    "label = gr.outputs.Label(num_top_classes=3)\n",
    "sample_images = [\n",
    "                 [\"monkey.jpg\"],\n",
    "                 [\"sailboat.jpg\"],\n",
    "                 [\"bicycle.jpg\"],\n",
    "                 [\"download.jpg\"],\n",
    "                 [\"fox.jpg\"]\n",
    "]"
   ]
  },
  {
   "cell_type": "code",
   "execution_count": 27,
   "id": "61c325d0",
   "metadata": {},
   "outputs": [
    {
     "name": "stdout",
     "output_type": "stream",
     "text": [
      "Running locally at: http://127.0.0.1:7861/\n",
      "To create a public link, set `share=True` in `launch()`.\n",
      "Interface loading below...\n"
     ]
    },
    {
     "data": {
      "text/html": [
       "\n",
       "        <iframe\n",
       "            width=\"1000\"\n",
       "            height=\"500\"\n",
       "            src=\"http://127.0.0.1:7861/\"\n",
       "            frameborder=\"0\"\n",
       "            allowfullscreen\n",
       "        ></iframe>\n",
       "        "
      ],
      "text/plain": [
       "<IPython.lib.display.IFrame at 0x20ea92c3508>"
      ]
     },
     "metadata": {},
     "output_type": "display_data"
    },
    {
     "name": "stdout",
     "output_type": "stream",
     "text": [
      "Tip: Add interpretation to your model by simply adding `interpretation=\"default\"` to `Interface()`\n"
     ]
    }
   ],
   "source": [
    "gr.Interface(\n",
    "    [classify_image_with_mobile_net, classify_image_with_inception_net],\n",
    "    imagein,\n",
    "    label,\n",
    "    title=\"MobileNet vs. InceptionNet\",\n",
    "    description=\"\"\"Let's compare 2 state-of-the-art machine learning models that classify images into one of 1,000 categories: MobileNet (top),\n",
    "          a lightweight model that has an accuracy of 0.704, vs. InceptionNet\n",
    "          (bottom), a much heavier model that has an accuracy of 0.779.\"\"\",\n",
    "    examples=sample_images).launch();"
   ]
  },
  {
   "cell_type": "code",
   "execution_count": null,
   "id": "3dbc1cab",
   "metadata": {},
   "outputs": [],
   "source": []
  }
 ],
 "metadata": {
  "kernelspec": {
   "display_name": "Python 3",
   "language": "python",
   "name": "python3"
  },
  "language_info": {
   "codemirror_mode": {
    "name": "ipython",
    "version": 3
   },
   "file_extension": ".py",
   "mimetype": "text/x-python",
   "name": "python",
   "nbconvert_exporter": "python",
   "pygments_lexer": "ipython3",
   "version": "3.7.10"
  }
 },
 "nbformat": 4,
 "nbformat_minor": 5
}
